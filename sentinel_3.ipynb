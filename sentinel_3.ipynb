{
  "nbformat": 4,
  "nbformat_minor": 0,
  "metadata": {
    "colab": {
      "provenance": [],
      "authorship_tag": "ABX9TyPU+ETsxotWZQJekZrnm8uJ",
      "include_colab_link": true
    },
    "kernelspec": {
      "name": "python3",
      "display_name": "Python 3"
    },
    "language_info": {
      "name": "python"
    }
  },
  "cells": [
    {
      "cell_type": "markdown",
      "metadata": {
        "id": "view-in-github",
        "colab_type": "text"
      },
      "source": [
        "<a href=\"https://colab.research.google.com/github/pallateja96/Alage-detectection-CNES/blob/main/sentinel_3.ipynb\" target=\"_parent\"><img src=\"https://colab.research.google.com/assets/colab-badge.svg\" alt=\"Open In Colab\"/></a>"
      ]
    },
    {
      "cell_type": "code",
      "execution_count": 9,
      "metadata": {
        "colab": {
          "base_uri": "https://localhost:8080/"
        },
        "id": "UNPGtdtxgoLC",
        "outputId": "951c953e-1625-4cfe-d544-74704329404d"
      },
      "outputs": [
        {
          "output_type": "stream",
          "name": "stdout",
          "text": [
            "To authorize access needed by Earth Engine, open the following URL in a web browser and follow the instructions. If the web browser does not start automatically, please manually browse the URL below.\n",
            "\n",
            "    https://code.earthengine.google.com/client-auth?scopes=https%3A//www.googleapis.com/auth/earthengine%20https%3A//www.googleapis.com/auth/devstorage.full_control&request_id=tapsVF03liPqwQd5RY6qMO5JTS7oubSOygPdKT1MUvQ&tc=P0x3_C-z9Y1ogXKr6JD8K9yiyG5aMp5KQ5H1gETWDy4&cc=5euY7DxJJZ8lF9Fc4EqC7kLLmir4MQrK_mmPNCW6bIY\n",
            "\n",
            "The authorization workflow will generate a code, which you should paste in the box below.\n",
            "Enter verification code: 4/1AWtgzh5X5hARkAa6twp4bT6qgZwMDkqzTVNuqjbIcVAl33eYI5nf4uBhaBw\n",
            "\n",
            "Successfully saved authorization token.\n"
          ]
        }
      ],
      "source": [
        "import ee\n",
        "\n",
        "# Trigger the authentication flow.\n",
        "ee.Authenticate()\n",
        "\n",
        "# Initialize the library.\n",
        "ee.Initialize()"
      ]
    },
    {
      "cell_type": "code",
      "source": [
        "import folium\n",
        "import ee\n",
        "\n",
        "# Initialize the Earth Engine module\n",
        "ee.Initialize()\n",
        "\n",
        "# Define the region of interest as a polygon\n",
        "aoi = ee.Geometry.Polygon(\n",
        "        [[[-97.53036215783045, 24.968390607847912],\n",
        "          [-97.53036215783045, 16.174856991797686],\n",
        "          [-84.91805747033045, 16.174856991797686],\n",
        "          [-84.91805747033045, 24.968390607847912]]])\n",
        "\n",
        "# Define the Sentinel 3 image collection\n",
        "collection = ee.ImageCollection('COPERNICUS/S3/OLCI')\n",
        "\n",
        "# Filter the collection by date and region of interest\n",
        "image = collection.filterDate('2022-07-07', '2022-07-12').filterBounds(aoi)\n",
        "\n",
        "# Select the bands you want to use for the red, green, and blue channels\n",
        "bands = ['Oa08_radiance', 'Oa06_radiance', 'Oa04_radiance']\n",
        "\n",
        "# Create a truecolor composite of the image\n",
        "rgb = image.select(bands).mean().visualize(min=0, max=6000, gamma=1.5)\n",
        "\n",
        "# Convert the image to a 8-bit RGB image\n",
        "rgb_8bit = rgb.multiply(256).toByte()\n",
        "\n",
        "# Get the URL of the image\n",
        "url = rgb_8bit.getThumbURL({'dimensions': 512, 'region': aoi})\n",
        "\n",
        "# Create a folium map\n",
        "m = folium.Map(location=[24.968390607847912, -97.53036215783045])\n",
        "\n",
        "# Add the image to the map\n",
        "folium.raster_layers.ImageOverlay(url, bounds=[[16.174856991797686, -97.53036215783045], [24.968390607847912, -84.91805747033045]], opacity=0.8).add_to(m)\n",
        "\n",
        "# Display the map\n",
        "m\n",
        "\n",
        "\n",
        "\n",
        "\n"
      ],
      "metadata": {
        "colab": {
          "base_uri": "https://localhost:8080/",
          "height": 866
        },
        "id": "9NTluepQ6J4d",
        "outputId": "20d4a095-9941-4487-cf69-e5676049f51d"
      },
      "execution_count": 18,
      "outputs": [
        {
          "output_type": "execute_result",
          "data": {
            "text/plain": [
              "<folium.folium.Map at 0x7fd85fd2f820>"
            ],
            "text/html": [
              "<div style=\"width:100%;\"><div style=\"position:relative;width:100%;height:0;padding-bottom:60%;\"><span style=\"color:#565656\">Make this Notebook Trusted to load map: File -> Trust Notebook</span><iframe srcdoc=\"&lt;!DOCTYPE html&gt;\n",
              "&lt;html&gt;\n",
              "&lt;head&gt;\n",
              "    \n",
              "    &lt;meta http-equiv=&quot;content-type&quot; content=&quot;text/html; charset=UTF-8&quot; /&gt;\n",
              "    \n",
              "        &lt;script&gt;\n",
              "            L_NO_TOUCH = false;\n",
              "            L_DISABLE_3D = false;\n",
              "        &lt;/script&gt;\n",
              "    \n",
              "    &lt;style&gt;html, body {width: 100%;height: 100%;margin: 0;padding: 0;}&lt;/style&gt;\n",
              "    &lt;style&gt;#map {position:absolute;top:0;bottom:0;right:0;left:0;}&lt;/style&gt;\n",
              "    &lt;script src=&quot;https://cdn.jsdelivr.net/npm/leaflet@1.6.0/dist/leaflet.js&quot;&gt;&lt;/script&gt;\n",
              "    &lt;script src=&quot;https://code.jquery.com/jquery-1.12.4.min.js&quot;&gt;&lt;/script&gt;\n",
              "    &lt;script src=&quot;https://maxcdn.bootstrapcdn.com/bootstrap/3.2.0/js/bootstrap.min.js&quot;&gt;&lt;/script&gt;\n",
              "    &lt;script src=&quot;https://cdnjs.cloudflare.com/ajax/libs/Leaflet.awesome-markers/2.0.2/leaflet.awesome-markers.js&quot;&gt;&lt;/script&gt;\n",
              "    &lt;link rel=&quot;stylesheet&quot; href=&quot;https://cdn.jsdelivr.net/npm/leaflet@1.6.0/dist/leaflet.css&quot;/&gt;\n",
              "    &lt;link rel=&quot;stylesheet&quot; href=&quot;https://maxcdn.bootstrapcdn.com/bootstrap/3.2.0/css/bootstrap.min.css&quot;/&gt;\n",
              "    &lt;link rel=&quot;stylesheet&quot; href=&quot;https://maxcdn.bootstrapcdn.com/bootstrap/3.2.0/css/bootstrap-theme.min.css&quot;/&gt;\n",
              "    &lt;link rel=&quot;stylesheet&quot; href=&quot;https://maxcdn.bootstrapcdn.com/font-awesome/4.6.3/css/font-awesome.min.css&quot;/&gt;\n",
              "    &lt;link rel=&quot;stylesheet&quot; href=&quot;https://cdnjs.cloudflare.com/ajax/libs/Leaflet.awesome-markers/2.0.2/leaflet.awesome-markers.css&quot;/&gt;\n",
              "    &lt;link rel=&quot;stylesheet&quot; href=&quot;https://cdn.jsdelivr.net/gh/python-visualization/folium/folium/templates/leaflet.awesome.rotate.min.css&quot;/&gt;\n",
              "    \n",
              "            &lt;meta name=&quot;viewport&quot; content=&quot;width=device-width,\n",
              "                initial-scale=1.0, maximum-scale=1.0, user-scalable=no&quot; /&gt;\n",
              "            &lt;style&gt;\n",
              "                #map_90f41ba99d589150fba1e2a212248990 {\n",
              "                    position: relative;\n",
              "                    width: 100.0%;\n",
              "                    height: 100.0%;\n",
              "                    left: 0.0%;\n",
              "                    top: 0.0%;\n",
              "                }\n",
              "            &lt;/style&gt;\n",
              "        \n",
              "    \n",
              "                &lt;style&gt;\n",
              "                    .leaflet-image-layer {\n",
              "                        /* old android/safari*/\n",
              "                        image-rendering: -webkit-optimize-contrast;\n",
              "                        image-rendering: crisp-edges; /* safari */\n",
              "                        image-rendering: pixelated; /* chrome */\n",
              "                        image-rendering: -moz-crisp-edges; /* firefox */\n",
              "                        image-rendering: -o-crisp-edges; /* opera */\n",
              "                        -ms-interpolation-mode: nearest-neighbor; /* ie */\n",
              "                    }\n",
              "                &lt;/style&gt;\n",
              "            \n",
              "&lt;/head&gt;\n",
              "&lt;body&gt;\n",
              "    \n",
              "    \n",
              "            &lt;div class=&quot;folium-map&quot; id=&quot;map_90f41ba99d589150fba1e2a212248990&quot; &gt;&lt;/div&gt;\n",
              "        \n",
              "&lt;/body&gt;\n",
              "&lt;script&gt;\n",
              "    \n",
              "    \n",
              "            var map_90f41ba99d589150fba1e2a212248990 = L.map(\n",
              "                &quot;map_90f41ba99d589150fba1e2a212248990&quot;,\n",
              "                {\n",
              "                    center: [24.968390607847912, -97.53036215783045],\n",
              "                    crs: L.CRS.EPSG3857,\n",
              "                    zoom: 10,\n",
              "                    zoomControl: true,\n",
              "                    preferCanvas: false,\n",
              "                }\n",
              "            );\n",
              "\n",
              "            \n",
              "\n",
              "        \n",
              "    \n",
              "            var tile_layer_ea9f8ebfef8ae4b0fef0accb902c3e21 = L.tileLayer(\n",
              "                &quot;https://{s}.tile.openstreetmap.org/{z}/{x}/{y}.png&quot;,\n",
              "                {&quot;attribution&quot;: &quot;Data by \\u0026copy; \\u003ca href=\\&quot;http://openstreetmap.org\\&quot;\\u003eOpenStreetMap\\u003c/a\\u003e, under \\u003ca href=\\&quot;http://www.openstreetmap.org/copyright\\&quot;\\u003eODbL\\u003c/a\\u003e.&quot;, &quot;detectRetina&quot;: false, &quot;maxNativeZoom&quot;: 18, &quot;maxZoom&quot;: 18, &quot;minZoom&quot;: 0, &quot;noWrap&quot;: false, &quot;opacity&quot;: 1, &quot;subdomains&quot;: &quot;abc&quot;, &quot;tms&quot;: false}\n",
              "            ).addTo(map_90f41ba99d589150fba1e2a212248990);\n",
              "        \n",
              "    \n",
              "            var image_overlay_e74e239dea7abceef80ebf230b7a8a46 = L.imageOverlay(\n",
              "                &quot;https://earthengine.googleapis.com/v1alpha/projects/earthengine-legacy/thumbnails/486745a72c378a49c88f09b7bb576788-9808d74de0163350cfbf56d1d9360e17:getPixels&quot;,\n",
              "                [[16.174856991797686, -97.53036215783045], [24.968390607847912, -84.91805747033045]],\n",
              "                {&quot;opacity&quot;: 0.8}\n",
              "            ).addTo(map_90f41ba99d589150fba1e2a212248990);\n",
              "        \n",
              "&lt;/script&gt;\n",
              "&lt;/html&gt;\" style=\"position:absolute;width:100%;height:100%;left:0;top:0;border:none !important;\" allowfullscreen webkitallowfullscreen mozallowfullscreen></iframe></div></div>"
            ]
          },
          "metadata": {},
          "execution_count": 18
        }
      ]
    },
    {
      "cell_type": "code",
      "source": [
        "# Define the export parameters\n",
        "scale = 10\n",
        "crs = 'EPSG:4326'\n",
        "region = aoi.bounds().getInfo()['coordinates']\n",
        "\n",
        "# Export the image to Google Drive\n",
        "task = ee.batch.Export.image.toDrive(\n",
        "    image=rgb,\n",
        "    description='Sentinel3_OLCI_TrueColor',\n",
        "    folder='Sentinel3',\n",
        "    fileNamePrefix='Sentinel3_OLCI_TrueColor',\n",
        "    scale=scale,\n",
        "    crs=crs,\n",
        "    region=region\n",
        ")\n",
        "\n",
        "# Start the export task\n",
        "task.start()\n",
        "\n",
        "# Print the task status\n",
        "print(task.status())\n",
        "\n",
        "\n",
        "\n",
        "\n"
      ],
      "metadata": {
        "colab": {
          "base_uri": "https://localhost:8080/"
        },
        "id": "5K9nuId7-Hyz",
        "outputId": "6f4761cd-c8b1-4669-a06e-3bada6e3e04a"
      },
      "execution_count": 17,
      "outputs": [
        {
          "output_type": "stream",
          "name": "stdout",
          "text": [
            "{'state': 'READY', 'description': 'Sentinel3_OLCI_TrueColor', 'creation_timestamp_ms': 1674986436167, 'update_timestamp_ms': 1674986436167, 'start_timestamp_ms': 0, 'task_type': 'EXPORT_IMAGE', 'id': 'UE665ED32OMWQOSJGYXFVZBM', 'name': 'projects/earthengine-legacy/operations/UE665ED32OMWQOSJGYXFVZBM'}\n"
          ]
        }
      ]
    },
    {
      "cell_type": "code",
      "source": [
        "\n"
      ],
      "metadata": {
        "id": "40zDFxdt5aM0"
      },
      "execution_count": 13,
      "outputs": []
    },
    {
      "cell_type": "code",
      "source": [],
      "metadata": {
        "id": "cpj4h0CQ8Gqt"
      },
      "execution_count": null,
      "outputs": []
    }
  ]
}