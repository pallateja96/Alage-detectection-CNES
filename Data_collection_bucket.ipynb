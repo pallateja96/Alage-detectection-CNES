{
  "nbformat": 4,
  "nbformat_minor": 0,
  "metadata": {
    "colab": {
      "provenance": [],
      "authorship_tag": "ABX9TyPu1eX5cV/yOvxBQF2J3vcn",
      "include_colab_link": true
    },
    "kernelspec": {
      "name": "python3",
      "display_name": "Python 3"
    },
    "language_info": {
      "name": "python"
    }
  },
  "cells": [
    {
      "cell_type": "markdown",
      "metadata": {
        "id": "view-in-github",
        "colab_type": "text"
      },
      "source": [
        "<a href=\"https://colab.research.google.com/github/pallateja96/Alage-detectection-CNES/blob/main/Data_collection_bucket.ipynb\" target=\"_parent\"><img src=\"https://colab.research.google.com/assets/colab-badge.svg\" alt=\"Open In Colab\"/></a>"
      ]
    },
    {
      "cell_type": "code",
      "source": [
        "!pip install requests-html\n"
      ],
      "metadata": {
        "colab": {
          "base_uri": "https://localhost:8080/",
          "height": 1000
        },
        "id": "ftqTN9KfYf9l",
        "outputId": "9beafd16-a1bb-4880-df0c-e5ccfd58efeb"
      },
      "execution_count": 2,
      "outputs": [
        {
          "output_type": "stream",
          "name": "stdout",
          "text": [
            "Looking in indexes: https://pypi.org/simple, https://us-python.pkg.dev/colab-wheels/public/simple/\n",
            "Collecting requests-html\n",
            "  Downloading requests_html-0.10.0-py3-none-any.whl (13 kB)\n",
            "Collecting pyquery\n",
            "  Downloading pyquery-2.0.0-py3-none-any.whl (22 kB)\n",
            "Collecting w3lib\n",
            "  Downloading w3lib-2.1.1-py3-none-any.whl (21 kB)\n",
            "Requirement already satisfied: bs4 in /usr/local/lib/python3.8/dist-packages (from requests-html) (0.0.1)\n",
            "Collecting fake-useragent\n",
            "  Downloading fake_useragent-1.1.1-py3-none-any.whl (50 kB)\n",
            "\u001b[2K     \u001b[90m━━━━━━━━━━━━━━━━━━━━━━━━━━━━━━━━━━━━━━━━\u001b[0m \u001b[32m50.4/50.4 KB\u001b[0m \u001b[31m1.4 MB/s\u001b[0m eta \u001b[36m0:00:00\u001b[0m\n",
            "\u001b[?25hCollecting pyppeteer>=0.0.14\n",
            "  Downloading pyppeteer-1.0.2-py3-none-any.whl (83 kB)\n",
            "\u001b[2K     \u001b[90m━━━━━━━━━━━━━━━━━━━━━━━━━━━━━━━━━━━━━━━━\u001b[0m \u001b[32m83.4/83.4 KB\u001b[0m \u001b[31m9.7 MB/s\u001b[0m eta \u001b[36m0:00:00\u001b[0m\n",
            "\u001b[?25hRequirement already satisfied: requests in /usr/local/lib/python3.8/dist-packages (from requests-html) (2.25.1)\n",
            "Collecting parse\n",
            "  Downloading parse-1.19.0.tar.gz (30 kB)\n",
            "  Preparing metadata (setup.py) ... \u001b[?25l\u001b[?25hdone\n",
            "Collecting pyee<9.0.0,>=8.1.0\n",
            "  Downloading pyee-8.2.2-py2.py3-none-any.whl (12 kB)\n",
            "Requirement already satisfied: tqdm<5.0.0,>=4.42.1 in /usr/local/lib/python3.8/dist-packages (from pyppeteer>=0.0.14->requests-html) (4.64.1)\n",
            "Collecting urllib3<2.0.0,>=1.25.8\n",
            "  Downloading urllib3-1.26.14-py2.py3-none-any.whl (140 kB)\n",
            "\u001b[2K     \u001b[90m━━━━━━━━━━━━━━━━━━━━━━━━━━━━━━━━━━━━━━\u001b[0m \u001b[32m140.6/140.6 KB\u001b[0m \u001b[31m16.6 MB/s\u001b[0m eta \u001b[36m0:00:00\u001b[0m\n",
            "\u001b[?25hRequirement already satisfied: appdirs<2.0.0,>=1.4.3 in /usr/local/lib/python3.8/dist-packages (from pyppeteer>=0.0.14->requests-html) (1.4.4)\n",
            "Collecting websockets<11.0,>=10.0\n",
            "  Downloading websockets-10.4-cp38-cp38-manylinux_2_5_x86_64.manylinux1_x86_64.manylinux_2_17_x86_64.manylinux2014_x86_64.whl (106 kB)\n",
            "\u001b[2K     \u001b[90m━━━━━━━━━━━━━━━━━━━━━━━━━━━━━━━━━━━━━━\u001b[0m \u001b[32m107.0/107.0 KB\u001b[0m \u001b[31m12.3 MB/s\u001b[0m eta \u001b[36m0:00:00\u001b[0m\n",
            "\u001b[?25hRequirement already satisfied: certifi>=2021 in /usr/local/lib/python3.8/dist-packages (from pyppeteer>=0.0.14->requests-html) (2022.12.7)\n",
            "Requirement already satisfied: importlib-metadata>=1.4 in /usr/local/lib/python3.8/dist-packages (from pyppeteer>=0.0.14->requests-html) (6.0.0)\n",
            "Requirement already satisfied: beautifulsoup4 in /usr/local/lib/python3.8/dist-packages (from bs4->requests-html) (4.6.3)\n",
            "Requirement already satisfied: importlib-resources>=5.0 in /usr/local/lib/python3.8/dist-packages (from fake-useragent->requests-html) (5.10.2)\n",
            "Collecting cssselect>=1.2.0\n",
            "  Downloading cssselect-1.2.0-py2.py3-none-any.whl (18 kB)\n",
            "Requirement already satisfied: lxml>=2.1 in /usr/local/lib/python3.8/dist-packages (from pyquery->requests-html) (4.9.2)\n",
            "Requirement already satisfied: chardet<5,>=3.0.2 in /usr/local/lib/python3.8/dist-packages (from requests->requests-html) (4.0.0)\n",
            "Requirement already satisfied: idna<3,>=2.5 in /usr/local/lib/python3.8/dist-packages (from requests->requests-html) (2.10)\n",
            "Requirement already satisfied: zipp>=0.5 in /usr/local/lib/python3.8/dist-packages (from importlib-metadata>=1.4->pyppeteer>=0.0.14->requests-html) (3.11.0)\n",
            "Building wheels for collected packages: parse\n",
            "  Building wheel for parse (setup.py) ... \u001b[?25l\u001b[?25hdone\n",
            "  Created wheel for parse: filename=parse-1.19.0-py3-none-any.whl size=24591 sha256=9a7febf912f270fea56372d423a3b26fd453e67221b9749bf7bbfe9c03324384\n",
            "  Stored in directory: /root/.cache/pip/wheels/e5/33/1f/68392720485b3ecf125a69e700baaab7624616deedea2fa6e2\n",
            "Successfully built parse\n",
            "Installing collected packages: pyee, parse, websockets, w3lib, urllib3, cssselect, pyquery, pyppeteer, fake-useragent, requests-html\n",
            "  Attempting uninstall: urllib3\n",
            "    Found existing installation: urllib3 1.24.3\n",
            "    Uninstalling urllib3-1.24.3:\n",
            "      Successfully uninstalled urllib3-1.24.3\n",
            "Successfully installed cssselect-1.2.0 fake-useragent-1.1.1 parse-1.19.0 pyee-8.2.2 pyppeteer-1.0.2 pyquery-2.0.0 requests-html-0.10.0 urllib3-1.26.14 w3lib-2.1.1 websockets-10.4\n"
          ]
        },
        {
          "output_type": "display_data",
          "data": {
            "application/vnd.colab-display-data+json": {
              "pip_warning": {
                "packages": [
                  "urllib3"
                ]
              }
            }
          },
          "metadata": {}
        }
      ]
    },
    {
      "cell_type": "code",
      "execution_count": 17,
      "metadata": {
        "id": "T96_91JjXYfW"
      },
      "outputs": [],
      "source": [
        "import requests\n",
        "from bs4 import BeautifulSoup\n",
        "import json\n",
        "from requests_html import HTMLSession\n",
        "\n",
        "def get_url_paths(url):\n",
        "    # Create an HTML session\n",
        "    session = HTMLSession()\n",
        "    #    Make a request to the web page\n",
        "    response = session.get(url)\n",
        "                           # Parse the HTML of the page\n",
        "    soup = BeautifulSoup(response.text, 'html.parser')\n",
        "\n",
        "    # Find all the <img> tags on the page\n",
        "    sections = soup.find_all('section', class_='onecol habonecol')\n",
        "\n",
        "    # Extract the links to the images and the alt text (which will be used as the file name)\n",
        "    links = {}\n",
        "    for section in sections:\n",
        "\n",
        "        if section.find('a') is not None and 'href' in section.find('a').attrs:\n",
        "            link = section.find('a').get('href')\n",
        "            name = section.text.strip()\n",
        "            links[name] = link\n",
        "\n",
        "    return links\n"
      ]
    },
    {
      "cell_type": "code",
      "source": [
        "Data_path = {\n",
        "       'GreenBay':'https://products.coastalscience.noaa.gov/habs_explorer/index.php?path=OWxwWDYyYVdTbEFwV2I2RnJUZytYb2h4N2VyVDczMGRDYU9xRWd4TFMvN2I1bkN1Z2NzNU83b2hvTHgrL1BmcA==&uri=VWtuM1UzbVNVN0RsZzJMeTJvNlNpM29OalF0WTFQQjVZVnpuS3o5bnh1Ym0vYWhtWEh4ck1hREVUamE4SDZ0M2tsd1M1OWg3UDJ0djIrNEkvbXliRU5jWkc4MUYwcU1wRFJEVEsvaWNIL0ZQN041NkU0YTB6blpwb0xyb0o0cTg=&type=bllEUXA3TmhSK21RVDlqbFYxMmEwdz09',\n",
        "       'SiginawBay':'https://products.coastalscience.noaa.gov/habs_explorer/index.php?path=TmtxVGduY3JqTXk0dXRrTmZjQ2V0YVlvaTEvczExWEZWK041ZThVRmFlUENRcWRiRFZSWFNOeXRDcTFvME9TNw==&uri=VWtuM1UzbVNVN0RsZzJMeTJvNlNpM29OalF0WTFQQjVZVnpuS3o5bnh1Ym0vYWhtWEh4ck1hREVUamE4SDZ0M2tsd1M1OWg3UDJ0djIrNEkvbXliRUVnSDVvVVVZK1hYZnFTQmdHejlyZDJ4L0g3bkNWM3lubUhaNFdBYVdyRG4=&type=bllEUXA3TmhSK21RVDlqbFYxMmEwdz09',\n",
        "       'WesternLake':'https://products.coastalscience.noaa.gov/habs_explorer/index.php?path=RUIvWnB3dWJmS3RvNXlWcjF4a1hLM1B0eERkak1wT2hueTFPRjFMSzVyQmJYMjVpQ2NmUzk5eVllQlVQd1ZiTw==&uri=VWtuM1UzbVNVN0RsZzJMeTJvNlNpM29OalF0WTFQQjVZVnpuS3o5bnh1Ym0vYWhtWEh4ck1hREVUamE4SDZ0M2tsd1M1OWg3UDJ0djIrNEkvbXliRUpBLzVSc3NaMVRvY3I5TG9ISjNTM2E4dDVNRzVZNmt2TjBVMHF5dUtha2s=&type=bllEUXA3TmhSK21RVDlqbFYxMmEwdz09',\n",
        "       'Albemarle':'https://products.coastalscience.noaa.gov/habs_explorer/index.php?path=ampYVkFlcUd6MG9tYkZqNTNoUmZDajBLU0ttckdvd0JXWG9TVHFPQWxPK3RBM1J1a1crZGN0Sm5RZm0vZ3RwZw==&uri=VWtuM1UzbVNVN0RsZzJMeTJvNlNpM29OalF0WTFQQjVZVnpuS3o5bnh1Ym0vYWhtWEh4ck1hREVUamE4SDZ0M2tsd1M1OWg3UDJ0djIrNEkvbXliRU9TbWNHY2k4TW02RjN4eGFQNkUzOG5TWld1N2pWdlQzaWhDeCtKUktncXk=&type=bllEUXA3TmhSK21RVDlqbFYxMmEwdz09',\n",
        "       'Pontchartrain':'https://products.coastalscience.noaa.gov/habs_explorer/index.php?path=NUxCRFRyTDVBY2VQWkEvS3hadTlBeHVhdUw4Mm52dUR0LzJYNUhMckdSR0h1dFRWMmRKb2p3a2ZFT2ZoV1pmMw==&uri=VWtuM1UzbVNVN0RsZzJMeTJvNlNpM29OalF0WTFQQjVZVnpuS3o5bnh1Ym0vYWhtWEh4ck1hREVUamE4SDZ0M2tsd1M1OWg3UDJ0djIrNEkvbXliRUg2S3lveTJyVzZoSHI5bEcxVlNGVkNzTEpPSFBPb0lSTXRoSG9TemVYMEhBdTZzQXdlNUhPaSs0M0NPa0t5VmF3PT0=&type=bllEUXA3TmhSK21RVDlqbFYxMmEwdz09',\n",
        "       'Okeechobee':'https://products.coastalscience.noaa.gov/habs_explorer/index.php?path=ajZiOVoxaHZNdE5nNytEb3RZdU5iYjNnK3AvTWRrYmNWbXU0K0YvMlA1UlBtTWZlRFV3R1RicVRYb2pxeVJBUA==&uri=VWtuM1UzbVNVN0RsZzJMeTJvNlNpM29OalF0WTFQQjVZVnpuS3o5bnh1Ym0vYWhtWEh4ck1hREVUamE4SDZ0M2tsd1M1OWg3UDJ0djIrNEkvbXliRUJ3WjkrKzdIcUYrN1JsZ1I5NFlsaHBZbUJWV0pHZ3NFZUVnQW56aTFIbEw=&type=bllEUXA3TmhSK21RVDlqbFYxMmEwdz09',\n",
        "       'Florida':'https://products.coastalscience.noaa.gov/habs_explorer/index.php?path=ajZiOVoxaHZNdE5nNytEb3RZdU5iWGNKSlhTQmVYUGUrb0piaTB5QnhOMXhuenIxN1FQU2orR0sxbkNwejhMaQ==&uri=VWtuM1UzbVNVN0RsZzJMeTJvNlNpM29OalF0WTFQQjVZVnpuS3o5bnh1Ym0vYWhtWEh4ck1hREVUamE4SDZ0M2tsd1M1OWg3UDJ0djIrNEkvbXliRUVkQkpRdFJDdjFkbTRoaUQ2L3J0UmpKYzNzMVVkc2ZCKy9nREM1R2FTcFU=&type=bllEUXA3TmhSK21RVDlqbFYxMmEwdz09'\n",
        "       }"
      ],
      "metadata": {
        "id": "7_iSi5blX-0v"
      },
      "execution_count": 13,
      "outputs": []
    },
    {
      "cell_type": "code",
      "source": [
        "for region,link in Data_path.items():\n",
        "\n",
        "  globals()[str(region)+'_links'] = get_url_paths(link)\n"
      ],
      "metadata": {
        "colab": {
          "base_uri": "https://localhost:8080/"
        },
        "id": "qoqrBFI2X01t",
        "outputId": "c738a1ff-8546-4709-8398-69f3f3e86304"
      },
      "execution_count": 22,
      "outputs": [
        {
          "output_type": "stream",
          "name": "stdout",
          "text": [
            "455\n"
          ]
        }
      ]
    },
    {
      "cell_type": "code",
      "source": [
        "#Data length\n",
        "for region in Data_path.keys():\n",
        "  print(len(globals()[str(region)+'_links'].keys()))"
      ],
      "metadata": {
        "colab": {
          "base_uri": "https://localhost:8080/"
        },
        "id": "76K4EzLecel7",
        "outputId": "7c2b9bfe-0870-41d0-b999-5186e3960c75"
      },
      "execution_count": 24,
      "outputs": [
        {
          "output_type": "stream",
          "name": "stdout",
          "text": [
            "455\n",
            "412\n",
            "645\n",
            "526\n",
            "522\n",
            "682\n",
            "868\n"
          ]
        }
      ]
    },
    {
      "cell_type": "code",
      "source": [
        "# extract only needed images and masks\n",
        "\n"
      ],
      "metadata": {
        "id": "p0oAtl3Ec_uV"
      },
      "execution_count": null,
      "outputs": []
    }
  ]
}