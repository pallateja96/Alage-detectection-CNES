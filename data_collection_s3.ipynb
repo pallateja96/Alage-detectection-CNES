{
  "nbformat": 4,
  "nbformat_minor": 0,
  "metadata": {
    "colab": {
      "provenance": [],
      "authorship_tag": "ABX9TyMqd8uyDvwjoa98RLvLICwI",
      "include_colab_link": true
    },
    "kernelspec": {
      "name": "python3",
      "display_name": "Python 3"
    },
    "language_info": {
      "name": "python"
    }
  },
  "cells": [
    {
      "cell_type": "markdown",
      "metadata": {
        "id": "view-in-github",
        "colab_type": "text"
      },
      "source": [
        "<a href=\"https://colab.research.google.com/github/pallateja96/Alage-detectection-CNES/blob/main/data_collection_s3.ipynb\" target=\"_parent\"><img src=\"https://colab.research.google.com/assets/colab-badge.svg\" alt=\"Open In Colab\"/></a>"
      ]
    },
    {
      "cell_type": "code",
      "execution_count": 1,
      "metadata": {
        "colab": {
          "base_uri": "https://localhost:8080/"
        },
        "id": "e8iSmo-8wgTl",
        "outputId": "463f4996-557c-4a6b-e039-6c2b0462e62f"
      },
      "outputs": [
        {
          "output_type": "stream",
          "name": "stdout",
          "text": [
            "Looking in indexes: https://pypi.org/simple, https://us-python.pkg.dev/colab-wheels/public/simple/\n",
            "Requirement already satisfied: earthengine-api in /usr/local/lib/python3.8/dist-packages (0.1.335)\n",
            "Requirement already satisfied: requests in /usr/local/lib/python3.8/dist-packages (from earthengine-api) (2.25.1)\n",
            "Requirement already satisfied: google-api-python-client>=1.12.1 in /usr/local/lib/python3.8/dist-packages (from earthengine-api) (2.70.0)\n",
            "Requirement already satisfied: httplib2<1dev,>=0.9.2 in /usr/local/lib/python3.8/dist-packages (from earthengine-api) (0.17.4)\n",
            "Requirement already satisfied: google-auth-httplib2>=0.0.3 in /usr/local/lib/python3.8/dist-packages (from earthengine-api) (0.1.0)\n",
            "Requirement already satisfied: six in /usr/local/lib/python3.8/dist-packages (from earthengine-api) (1.15.0)\n",
            "Requirement already satisfied: google-cloud-storage in /usr/local/lib/python3.8/dist-packages (from earthengine-api) (2.7.0)\n",
            "Requirement already satisfied: future in /usr/local/lib/python3.8/dist-packages (from earthengine-api) (0.16.0)\n",
            "Requirement already satisfied: google-auth>=1.4.1 in /usr/local/lib/python3.8/dist-packages (from earthengine-api) (2.15.0)\n",
            "Requirement already satisfied: google-api-core!=2.0.*,!=2.1.*,!=2.2.*,!=2.3.0,<3.0.0dev,>=1.31.5 in /usr/local/lib/python3.8/dist-packages (from google-api-python-client>=1.12.1->earthengine-api) (2.11.0)\n",
            "Requirement already satisfied: uritemplate<5,>=3.0.1 in /usr/local/lib/python3.8/dist-packages (from google-api-python-client>=1.12.1->earthengine-api) (4.1.1)\n",
            "Requirement already satisfied: pyasn1-modules>=0.2.1 in /usr/local/lib/python3.8/dist-packages (from google-auth>=1.4.1->earthengine-api) (0.2.8)\n",
            "Requirement already satisfied: rsa<5,>=3.1.4 in /usr/local/lib/python3.8/dist-packages (from google-auth>=1.4.1->earthengine-api) (4.9)\n",
            "Requirement already satisfied: cachetools<6.0,>=2.0.0 in /usr/local/lib/python3.8/dist-packages (from google-auth>=1.4.1->earthengine-api) (5.2.0)\n",
            "Requirement already satisfied: google-cloud-core<3.0dev,>=2.3.0 in /usr/local/lib/python3.8/dist-packages (from google-cloud-storage->earthengine-api) (2.3.2)\n",
            "Requirement already satisfied: google-resumable-media>=2.3.2 in /usr/local/lib/python3.8/dist-packages (from google-cloud-storage->earthengine-api) (2.4.0)\n",
            "Requirement already satisfied: idna<3,>=2.5 in /usr/local/lib/python3.8/dist-packages (from requests->earthengine-api) (2.10)\n",
            "Requirement already satisfied: urllib3<1.27,>=1.21.1 in /usr/local/lib/python3.8/dist-packages (from requests->earthengine-api) (1.24.3)\n",
            "Requirement already satisfied: chardet<5,>=3.0.2 in /usr/local/lib/python3.8/dist-packages (from requests->earthengine-api) (4.0.0)\n",
            "Requirement already satisfied: certifi>=2017.4.17 in /usr/local/lib/python3.8/dist-packages (from requests->earthengine-api) (2022.12.7)\n",
            "Requirement already satisfied: googleapis-common-protos<2.0dev,>=1.56.2 in /usr/local/lib/python3.8/dist-packages (from google-api-core!=2.0.*,!=2.1.*,!=2.2.*,!=2.3.0,<3.0.0dev,>=1.31.5->google-api-python-client>=1.12.1->earthengine-api) (1.57.1)\n",
            "Requirement already satisfied: protobuf!=3.20.0,!=3.20.1,!=4.21.0,!=4.21.1,!=4.21.2,!=4.21.3,!=4.21.4,!=4.21.5,<5.0.0dev,>=3.19.5 in /usr/local/lib/python3.8/dist-packages (from google-api-core!=2.0.*,!=2.1.*,!=2.2.*,!=2.3.0,<3.0.0dev,>=1.31.5->google-api-python-client>=1.12.1->earthengine-api) (3.19.6)\n",
            "Requirement already satisfied: google-crc32c<2.0dev,>=1.0 in /usr/local/lib/python3.8/dist-packages (from google-resumable-media>=2.3.2->google-cloud-storage->earthengine-api) (1.5.0)\n",
            "Requirement already satisfied: pyasn1<0.5.0,>=0.4.6 in /usr/local/lib/python3.8/dist-packages (from pyasn1-modules>=0.2.1->google-auth>=1.4.1->earthengine-api) (0.4.8)\n"
          ]
        }
      ],
      "source": [
        "# First, you need to install the GEE API\n",
        "!pip install earthengine-api\n"
      ]
    },
    {
      "cell_type": "code",
      "source": [
        "!pip install folium\n"
      ],
      "metadata": {
        "colab": {
          "base_uri": "https://localhost:8080/"
        },
        "id": "8IIxAH9vxeO7",
        "outputId": "3e2f3fc3-bce9-4a02-d727-9c898f6c6f3e"
      },
      "execution_count": 7,
      "outputs": [
        {
          "output_type": "stream",
          "name": "stdout",
          "text": [
            "Looking in indexes: https://pypi.org/simple, https://us-python.pkg.dev/colab-wheels/public/simple/\n",
            "Requirement already satisfied: folium in /usr/local/lib/python3.8/dist-packages (0.12.1.post1)\n",
            "Requirement already satisfied: branca>=0.3.0 in /usr/local/lib/python3.8/dist-packages (from folium) (0.6.0)\n",
            "Requirement already satisfied: jinja2>=2.9 in /usr/local/lib/python3.8/dist-packages (from folium) (2.11.3)\n",
            "Requirement already satisfied: numpy in /usr/local/lib/python3.8/dist-packages (from folium) (1.21.6)\n",
            "Requirement already satisfied: requests in /usr/local/lib/python3.8/dist-packages (from folium) (2.25.1)\n",
            "Requirement already satisfied: MarkupSafe>=0.23 in /usr/local/lib/python3.8/dist-packages (from jinja2>=2.9->folium) (2.0.1)\n",
            "Requirement already satisfied: idna<3,>=2.5 in /usr/local/lib/python3.8/dist-packages (from requests->folium) (2.10)\n",
            "Requirement already satisfied: chardet<5,>=3.0.2 in /usr/local/lib/python3.8/dist-packages (from requests->folium) (4.0.0)\n",
            "Requirement already satisfied: certifi>=2017.4.17 in /usr/local/lib/python3.8/dist-packages (from requests->folium) (2022.12.7)\n",
            "Requirement already satisfied: urllib3<1.27,>=1.21.1 in /usr/local/lib/python3.8/dist-packages (from requests->folium) (1.24.3)\n"
          ]
        }
      ]
    },
    {
      "cell_type": "code",
      "source": [
        "\n",
        "\n",
        "!earthengine authenticate \n",
        "\n"
      ],
      "metadata": {
        "colab": {
          "base_uri": "https://localhost:8080/"
        },
        "id": "hOdbo3itzwNw",
        "outputId": "c7d51f56-93bd-4862-edba-16f346fe04c9"
      },
      "execution_count": 10,
      "outputs": [
        {
          "output_type": "stream",
          "name": "stdout",
          "text": [
            "To authorize access needed by Earth Engine, open the following URL in a web browser and follow the instructions. If the web browser does not start automatically, please manually browse the URL below.\n",
            "\n",
            "    https://code.earthengine.google.com/client-auth?scopes=https%3A//www.googleapis.com/auth/earthengine%20https%3A//www.googleapis.com/auth/devstorage.full_control&request_id=C8MltajpRzGpnmkdY_ttwCaOeIxvmlbNmPsG7757708&tc=myWsxua8yrSjUQPnXX0qHuc7y0ysF7iMLyS8-nBYUzg&cc=_4vwzmN0di5zWWcPDvae1j5BbCYo1PASlkIhBF5QQCM\n",
            "\n",
            "The authorization workflow will generate a code, which you should paste in the box below.\n",
            "Enter verification code: 4/1AWgavdeQokK2T30IFl2FsEgpZCL20T0PMmpS6LbQkxWP8o50pr-r8RMQsrs\n",
            "\n",
            "Successfully saved authorization token.\n"
          ]
        }
      ]
    },
    {
      "cell_type": "code",
      "source": [
        "EE_TILES = 'https://earthengine.googleapis.com/map/{mapid}/{{z}}/{{x}}/{{y}}?token={token}'\n",
        "\n",
        "#@title Mapdisplay: Display GEE objects using folium.\n",
        "def Mapdisplay(center, dicc, Tiles=\"OpensTreetMap\",zoom_start=10):\n",
        "    '''\n",
        "    :param center: Center of the map (Latitude and Longitude).\n",
        "    :param dicc: Earth Engine Geometries or Tiles dictionary\n",
        "    :param Tiles: Mapbox Bright,Mapbox Control Room,Stamen Terrain,Stamen Toner,stamenwatercolor,cartodbpositron.\n",
        "    :zoom_start: Initial zoom level for the map.\n",
        "    :return: A folium.Map object.\n",
        "    '''\n",
        "    mapViz = folium.Map(location=center,tiles=Tiles, zoom_start=zoom_start)\n",
        "    for k,v in dicc.items():\n",
        "      if ee.image.Image in [type(x) for x in v.values()]:\n",
        "        folium.TileLayer(\n",
        "            tiles = v[\"tile_fetcher\"].url_format,\n",
        "            attr  = 'Google Earth Engine',\n",
        "            overlay =True,\n",
        "            name  = k\n",
        "          ).add_to(mapViz)\n",
        "      else:\n",
        "        folium.GeoJson(\n",
        "        data = v,\n",
        "        name = k\n",
        "          ).add_to(mapViz)\n",
        "    mapViz.add_child(folium.LayerControl())\n",
        "    return mapViz"
      ],
      "metadata": {
        "id": "lP6KboZg0XSL"
      },
      "execution_count": 22,
      "outputs": []
    },
    {
      "cell_type": "code",
      "source": [
        "# Next, import the necessary modules\n",
        "import ee\n",
        "\n",
        "# Initialize the API\n",
        "ee.Initialize()\n",
        "\n",
        "# Define the collection of Sentinel-3 OLCI images\n",
        "olci = ee.ImageCollection(\"COPERNICUS/S3/OLCI\")\n",
        "\n",
        "# Define a date range for the images\n",
        "date_range = ee.DateRange(\"2021-01-01\", \"2021-01-31\")\n",
        "\n",
        "# Filter the collection to include only images within the date range\n",
        "olci = olci.filterDate(date_range)\n",
        "\n",
        "# Define a region of interest (ROI) in the form of a geometry\n",
        "# You can use any geometry that you want here\n",
        "roi = ee.Geometry.Rectangle([-180, -90, 180, 90])\n",
        "\n",
        "# Filter the collection to include only images that intersect the ROI\n",
        "olci = olci.filterBounds(roi)\n",
        "\n",
        "# Sort the images by the acquisition date\n",
        "olci = olci.sort(\"system:time_start\", False)\n",
        "\n",
        "# Get the first image in the collection\n",
        "image = olci.first()\n",
        "\n",
        "# Print the image's properties\n",
        "print(image.getInfo())\n"
      ],
      "metadata": {
        "colab": {
          "base_uri": "https://localhost:8080/"
        },
        "id": "aSLKT-XbwxBw",
        "outputId": "5da8a637-e267-4137-a3ea-dccc0d99ebfa"
      },
      "execution_count": 13,
      "outputs": [
        {
          "output_type": "stream",
          "name": "stdout",
          "text": [
            "{'type': 'Image', 'bands': [{'id': 'Oa01_radiance', 'data_type': {'type': 'PixelType', 'precision': 'double'}, 'dimensions': [4866, 4553], 'crs': 'EPSG:32656', 'crs_transform': [311.5673507728058, 0, -100023.9334924072, 0, -311.5673507728058, 5828688.120035572]}, {'id': 'Oa02_radiance', 'data_type': {'type': 'PixelType', 'precision': 'double'}, 'dimensions': [4866, 4553], 'crs': 'EPSG:32656', 'crs_transform': [311.5673507728058, 0, -100023.9334924072, 0, -311.5673507728058, 5828688.120035572]}, {'id': 'Oa03_radiance', 'data_type': {'type': 'PixelType', 'precision': 'double'}, 'dimensions': [4866, 4553], 'crs': 'EPSG:32656', 'crs_transform': [311.5673507728058, 0, -100023.9334924072, 0, -311.5673507728058, 5828688.120035572]}, {'id': 'Oa04_radiance', 'data_type': {'type': 'PixelType', 'precision': 'double'}, 'dimensions': [4866, 4553], 'crs': 'EPSG:32656', 'crs_transform': [311.5673507728058, 0, -100023.9334924072, 0, -311.5673507728058, 5828688.120035572]}, {'id': 'Oa05_radiance', 'data_type': {'type': 'PixelType', 'precision': 'double'}, 'dimensions': [4866, 4553], 'crs': 'EPSG:32656', 'crs_transform': [311.5673507728058, 0, -100023.9334924072, 0, -311.5673507728058, 5828688.120035572]}, {'id': 'Oa06_radiance', 'data_type': {'type': 'PixelType', 'precision': 'double'}, 'dimensions': [4866, 4553], 'crs': 'EPSG:32656', 'crs_transform': [311.5673507728058, 0, -100023.9334924072, 0, -311.5673507728058, 5828688.120035572]}, {'id': 'Oa07_radiance', 'data_type': {'type': 'PixelType', 'precision': 'double'}, 'dimensions': [4866, 4553], 'crs': 'EPSG:32656', 'crs_transform': [311.5673507728058, 0, -100023.9334924072, 0, -311.5673507728058, 5828688.120035572]}, {'id': 'Oa08_radiance', 'data_type': {'type': 'PixelType', 'precision': 'double'}, 'dimensions': [4866, 4553], 'crs': 'EPSG:32656', 'crs_transform': [311.5673507728058, 0, -100023.9334924072, 0, -311.5673507728058, 5828688.120035572]}, {'id': 'Oa09_radiance', 'data_type': {'type': 'PixelType', 'precision': 'double'}, 'dimensions': [4866, 4553], 'crs': 'EPSG:32656', 'crs_transform': [311.5673507728058, 0, -100023.9334924072, 0, -311.5673507728058, 5828688.120035572]}, {'id': 'Oa10_radiance', 'data_type': {'type': 'PixelType', 'precision': 'double'}, 'dimensions': [4866, 4553], 'crs': 'EPSG:32656', 'crs_transform': [311.5673507728058, 0, -100023.9334924072, 0, -311.5673507728058, 5828688.120035572]}, {'id': 'Oa11_radiance', 'data_type': {'type': 'PixelType', 'precision': 'double'}, 'dimensions': [4866, 4553], 'crs': 'EPSG:32656', 'crs_transform': [311.5673507728058, 0, -100023.9334924072, 0, -311.5673507728058, 5828688.120035572]}, {'id': 'Oa12_radiance', 'data_type': {'type': 'PixelType', 'precision': 'double'}, 'dimensions': [4866, 4553], 'crs': 'EPSG:32656', 'crs_transform': [311.5673507728058, 0, -100023.9334924072, 0, -311.5673507728058, 5828688.120035572]}, {'id': 'Oa13_radiance', 'data_type': {'type': 'PixelType', 'precision': 'double'}, 'dimensions': [4866, 4553], 'crs': 'EPSG:32656', 'crs_transform': [311.5673507728058, 0, -100023.9334924072, 0, -311.5673507728058, 5828688.120035572]}, {'id': 'Oa14_radiance', 'data_type': {'type': 'PixelType', 'precision': 'double'}, 'dimensions': [4866, 4553], 'crs': 'EPSG:32656', 'crs_transform': [311.5673507728058, 0, -100023.9334924072, 0, -311.5673507728058, 5828688.120035572]}, {'id': 'Oa15_radiance', 'data_type': {'type': 'PixelType', 'precision': 'double'}, 'dimensions': [4866, 4553], 'crs': 'EPSG:32656', 'crs_transform': [311.5673507728058, 0, -100023.9334924072, 0, -311.5673507728058, 5828688.120035572]}, {'id': 'Oa16_radiance', 'data_type': {'type': 'PixelType', 'precision': 'double'}, 'dimensions': [4866, 4553], 'crs': 'EPSG:32656', 'crs_transform': [311.5673507728058, 0, -100023.9334924072, 0, -311.5673507728058, 5828688.120035572]}, {'id': 'Oa17_radiance', 'data_type': {'type': 'PixelType', 'precision': 'double'}, 'dimensions': [4866, 4553], 'crs': 'EPSG:32656', 'crs_transform': [311.5673507728058, 0, -100023.9334924072, 0, -311.5673507728058, 5828688.120035572]}, {'id': 'Oa18_radiance', 'data_type': {'type': 'PixelType', 'precision': 'double'}, 'dimensions': [4866, 4553], 'crs': 'EPSG:32656', 'crs_transform': [311.5673507728058, 0, -100023.9334924072, 0, -311.5673507728058, 5828688.120035572]}, {'id': 'Oa19_radiance', 'data_type': {'type': 'PixelType', 'precision': 'double'}, 'dimensions': [4866, 4553], 'crs': 'EPSG:32656', 'crs_transform': [311.5673507728058, 0, -100023.9334924072, 0, -311.5673507728058, 5828688.120035572]}, {'id': 'Oa20_radiance', 'data_type': {'type': 'PixelType', 'precision': 'double'}, 'dimensions': [4866, 4553], 'crs': 'EPSG:32656', 'crs_transform': [311.5673507728058, 0, -100023.9334924072, 0, -311.5673507728058, 5828688.120035572]}, {'id': 'Oa21_radiance', 'data_type': {'type': 'PixelType', 'precision': 'double'}, 'dimensions': [4866, 4553], 'crs': 'EPSG:32656', 'crs_transform': [311.5673507728058, 0, -100023.9334924072, 0, -311.5673507728058, 5828688.120035572]}, {'id': 'quality_flags', 'data_type': {'type': 'PixelType', 'precision': 'int', 'min': 0, 'max': 4294967295}, 'dimensions': [4866, 4553], 'crs': 'EPSG:32656', 'crs_transform': [311.5673507728058, 0, -100023.9334924072, 0, -311.5673507728058, 5828688.120035572]}], 'id': 'COPERNICUS/S3/OLCI/S3B_20210130T235739_20210131T000039', 'version': 1612396868226754, 'properties': {'SNAP_Graph_Processing_Framework_GPF_vers': '8.0.1', 'processing_time': 1612150006000, 'invalidPixelsPercent': 4, 'SNAP_Raster_Operators_vers': '8.0.1', 'processing_facility_organisation': 'European Space Agency', 'productQuality': 'PASSED', 'relative_orbit_num': 287, 'brightPixelsPercent': 4.30532, 'coastalPixelsPercent': 0, 'processing_software_name': 'PUG', 'orbitNumber': 14419, 'spacecraft': 'S3B', 'system:footprint': {'type': 'LinearRing', 'coordinates': [[165.28161505757706, 47.961569029934864], [165.67327728510728, 49.518699012566856], [166.32936621592228, 51.85158389239667], [155.3303512448087, 52.58808107115456], [144.19100136599528, 52.28168765620862], [144.49237105477803, 50.703008712753224], [145.01942472062802, 47.54650799796108], [145.46367789946737, 44.3845129502517], [145.84058001371494, 41.21776602298405], [146.00782326854917, 39.630002049406826], [154.84467280799296, 39.82644290894831], [163.62035904681161, 39.35290819529751], [164.00364181100016, 41.70878424099663], [164.28533365770866, 43.2752072620386], [164.59058167693615, 44.83960337432392], [164.92176530168746, 46.40179231096903], [165.28161505757706, 47.961569029934864]]}, 'cosmeticPixelsPercent': 0, 'cycle_num': 48, 'dubiousSamplesPercent': 0, 'saturatedPixelsPercent': 0, 'product': 'OL_1_EFR___', 'processing_facility_country': 'Germany', 'system:time_end': 1612051239000, 'salineWaterPixelsPercent': 99, 'PRODUCT_ID': 'S3B_OL_1_EFR____20210130T235739_20210131T000039_20210201T032646_0179_048_287_2160_LN1_O_NT_002', 'tidalRegionPixelsPercent': 0, 'system:time_start': 1612051059000, 'timeliness': 'NT', 'duplicatedPixelsPercent': 23, 'processing_facility_name': 'Land OLCI Processing and Archiving Centre [LN1]', 'processing_facility_site': 'Oberpfaffenhofen', 'groundTrackDirection': 'descending', 'system:asset_size': 466871749, 'processing_software_version': '03.38', 'status': 'permanent', 'freshInlandWaterPixelsPercent': 0, 'processing_hardware': 'OPE', 'system:index': 'S3B_20210130T235739_20210131T000039'}}\n"
          ]
        }
      ]
    },
    {
      "cell_type": "code",
      "source": [
        "from IPython.display import Image\n",
        "# Import the Earth Engine Python API\n",
        "import ee\n",
        "import folium\n",
        "\n",
        "# Initialize the Earth Engine API\n",
        "ee.Initialize()\n",
        "\n",
        "# Search for Sentinel-3 OLCI images\n",
        "collection = ee.ImageCollection(\"COPERNICUS/S3/OLCI\")\n",
        "\n",
        "# Define a region of interest (ROI) in the form of a geometry\n",
        "# You can use any geometry that you want here\n",
        "roi = ee.Geometry.Polygon(\n",
        "        [[[-82.58194756284642, 41.98707092163007],\n",
        "          [-82.56890129819799, 41.89079147022274],\n",
        "          [-82.41097283140111, 41.894880554318824],\n",
        "          [-82.42779564634252, 41.99625711175054]]]);\n",
        "\n",
        "# Filter the images by date and location\n",
        "# you have to define your own date and region of interest\n",
        "filtered_collection = collection.filterDate('2022-01-10', '2022-01-15').filterBounds(roi)\n",
        "\n",
        "# Get the first image in the filtered collection\n",
        "image = filtered_collection.first()\n",
        "\n",
        "# Select the Red, Green, and Blue bands\n",
        "image = image.select(['Oa04_radiance', 'Oa03_radiance', 'Oa02_radiance'])\n",
        "\n",
        "# Get the projection of the ROI\n",
        "roi_projection = ee.Image(1).projection()\n",
        "\n",
        "#Map = image.visualize(bands= ['Oa04_radiance', 'Oa03_radiance', 'Oa02_radiance'], min= 0, max= 0.3)\n",
        "\n",
        "#display(Map)\n",
        "\n",
        "vis_params = {'bands': ['Oa04_radiance', 'Oa03_radiance', 'Oa02_radiance'], 'min': 0, 'max': 255}\n",
        "\n",
        "\n",
        "mapid = image.getMapId(vis_params)\n",
        "Map = folium.Map()\n",
        "folium.TileLayer(\n",
        "    tiles = \"https://earthengine.googleapis.com/map/{mapid}/{{z}}/{{x}}/{{y}}?token={token}\".format(**mapid),\n",
        "    attr = \"Google Earth Engine\",\n",
        "    overlay = True,\n",
        "    name = \"image\"\n",
        ").add_to(Map)\n",
        "#Map\n",
        "# Print the image's properties\n",
        "print(image.getInfo())"
      ],
      "metadata": {
        "colab": {
          "base_uri": "https://localhost:8080/"
        },
        "id": "CzuF2I7Hxxf_",
        "outputId": "77fe47cb-60af-4a1d-c40d-e8b4ddac21da"
      },
      "execution_count": 77,
      "outputs": [
        {
          "output_type": "stream",
          "name": "stdout",
          "text": [
            "{'type': 'Image', 'bands': [{'id': 'Oa04_radiance', 'data_type': {'type': 'PixelType', 'precision': 'double'}, 'dimensions': [4866, 4585], 'crs': 'EPSG:32618', 'crs_transform': [321.78450131582196, 0, -461938.7521360088, 0, -321.78450131582196, 5859271.680550871]}, {'id': 'Oa03_radiance', 'data_type': {'type': 'PixelType', 'precision': 'double'}, 'dimensions': [4866, 4585], 'crs': 'EPSG:32618', 'crs_transform': [321.78450131582196, 0, -461938.7521360088, 0, -321.78450131582196, 5859271.680550871]}, {'id': 'Oa02_radiance', 'data_type': {'type': 'PixelType', 'precision': 'double'}, 'dimensions': [4866, 4585], 'crs': 'EPSG:32618', 'crs_transform': [321.78450131582196, 0, -461938.7521360088, 0, -321.78450131582196, 5859271.680550871]}], 'id': 'COPERNICUS/S3/OLCI/S3A_20220110T152724_20220110T153024', 'version': 1642119622321608, 'properties': {'SNAP_Graph_Processing_Framework_GPF_vers': '8.0.3', 'processing_time': 1641928661000, 'invalidPixelsPercent': 4, 'SNAP_Raster_Operators_vers': '8.0.3', 'processing_facility_organisation': 'European Space Agency', 'productQuality': 'PASSED', 'relative_orbit_num': 339, 'brightPixelsPercent': 76, 'coastalPixelsPercent': 0, 'processing_software_name': 'PUG', 'orbitNumber': 30727, 'spacecraft': 'S3A', 'system:footprint': {'type': 'LinearRing', 'coordinates': [[-87.91368369913071, 48.006880284073496], [-87.52047194773917, 46.38846657479366], [-87.15971006465969, 44.76722889551377], [-86.82820336109017, 43.1434201926275], [-86.52318091036882, 41.51726177616027], [-86.1096506025897, 39.07116328565785], [-77.08669170831253, 39.58601089073325], [-67.99073965024606, 39.392935018782445], [-67.81756859858172, 41.04426041889937], [-67.4254502499051, 44.337683425644684], [-66.96024606615381, 47.625938248222944], [-66.40443429610241, 50.908177679841565], [-66.08481441774352, 52.54957629271846], [-77.66162383706154, 52.85620821669644], [-89.06537696517714, 52.04137616379657], [-88.34304446731481, 49.622179509740455], [-87.91368369913071, 48.006880284073496]]}, 'cosmeticPixelsPercent': 0, 'cycle_num': 80, 'dubiousSamplesPercent': 0, 'saturatedPixelsPercent': 0, 'product': 'OL_1_EFR___', 'processing_facility_country': 'EU', 'system:time_end': 1641828624000, 'salineWaterPixelsPercent': 5, 'PRODUCT_ID': 'S3A_OL_1_EFR____20220110T152724_20220110T153024_20220111T191741_0179_080_339_2160_LN1_O_NT_002', 'tidalRegionPixelsPercent': 1, 'system:time_start': 1641828444000, 'timeliness': 'NT', 'duplicatedPixelsPercent': 23, 'processing_facility_name': 'Land OLCI Processing and Archiving Centre [LN1]', 'processing_facility_site': 'Cloud Service Provider', 'groundTrackDirection': 'descending', 'system:asset_size': 431823013, 'processing_software_version': '03.39', 'status': 'permanent', 'freshInlandWaterPixelsPercent': 13, 'processing_hardware': 'OPE', 'system:index': 'S3A_20220110T152724_20220110T153024'}}\n"
          ]
        }
      ]
    },
    {
      "cell_type": "code",
      "source": [
        "import ee\n",
        "\n",
        "from google.colab import auth\n",
        "from googleapiclient.discovery import build\n",
        "\n",
        "# Initialize the Earth Engine API\n",
        "ee.Initialize()\n",
        "\n",
        "# Authenticate and construct the Drive API client\n",
        "auth.authenticate_user()\n",
        "drive_service = build('drive', 'v3')\n",
        "\n",
        "# Define the export parameters\n",
        "export_parameters = {\n",
        "    'driveFolder': 'EE_Exports',\n",
        "    'fileNamePrefix': 'my_image3',\n",
        "    'crs': 'EPSG:32618',\n",
        "    'region': roi.getInfo()['coordinates']\n",
        "}\n",
        "\n",
        "# Export the image to Google Drive\n",
        "task = ee.batch.Export.image.toDrive(image, **export_parameters)\n",
        "task.start()\n",
        "\n",
        "# Print the task status\n",
        "print(f'Task status: {task.status()[\"state\"]}')"
      ],
      "metadata": {
        "colab": {
          "base_uri": "https://localhost:8080/"
        },
        "id": "iB6CqWbdC538",
        "outputId": "b714d1cc-ddb2-403e-d39d-903d5abaf9de"
      },
      "execution_count": 78,
      "outputs": [
        {
          "output_type": "stream",
          "name": "stdout",
          "text": [
            "Task status: READY\n"
          ]
        }
      ]
    }
  ]
}